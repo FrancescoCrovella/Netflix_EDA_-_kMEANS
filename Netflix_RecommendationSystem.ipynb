{
 "cells": [
  {
   "cell_type": "markdown",
   "id": "fcc26d06",
   "metadata": {},
   "source": [
    "<p align=center> <img src='https://resource.calcionapoli24.it/www/galleria/upload/1563696286-netflixlogo.jpg' width='700'> </p>\n",
    "\n",
    "<h1 align='center'> SEMPLE NETFLIX RECCOMENDATION SYSTEM </h1>"
   ]
  },
  {
   "cell_type": "code",
   "execution_count": 14,
   "id": "dd4dbfd0",
   "metadata": {},
   "outputs": [
    {
     "name": "stdout",
     "output_type": "stream",
     "text": [
      "Libraries have been correctly imported!\n"
     ]
    }
   ],
   "source": [
    "import os\n",
    "import numpy as np\n",
    "import pandas as pd\n",
    "import matplotlib.pyplot as plt\n",
    "import seaborn as sns\n",
    "import plotly.express as px\n",
    "import requests\n",
    "from sklearn.preprocessing import MultiLabelBinarizer\n",
    "import re\n",
    "from wordcloud import WordCloud, STOPWORDS\n",
    "#%matplotlib inline\n",
    "print(\"Libraries have been correctly imported!\")"
   ]
  },
  {
   "cell_type": "code",
   "execution_count": 15,
   "id": "a9f3476b",
   "metadata": {},
   "outputs": [
    {
     "name": "stdout",
     "output_type": "stream",
     "text": [
      "The dataset has been correctly imported!\n"
     ]
    },
    {
     "data": {
      "text/plain": [
       "0        Dick Johnson Is Dead\n",
       "1               Blood & Water\n",
       "2                   Ganglands\n",
       "3       Jailbirds New Orleans\n",
       "4                Kota Factory\n",
       "                ...          \n",
       "8706                   Zodiac\n",
       "8707              Zombie Dumb\n",
       "8708               Zombieland\n",
       "8709                     Zoom\n",
       "8710                   Zubaan\n",
       "Name: title, Length: 8711, dtype: object"
      ]
     },
     "execution_count": 15,
     "metadata": {},
     "output_type": "execute_result"
    }
   ],
   "source": [
    "#Nella scrittura del filepath ruotiamo sempre gli slash. Non dobbiamo mai avere backslash \\ ma solo slash /\n",
    "netflix_dataset='https://raw.githubusercontent.com/FrancescoCrovella/Netflix_EDA_kMEANS/main/netflix_cleaned.csv'\n",
    "netflix_df=pd.read_csv(netflix_dataset)\n",
    "\n",
    "print(\"The dataset has been correctly imported!\")\n",
    "\n",
    "netflix_df['title']"
   ]
  },
  {
   "cell_type": "markdown",
   "id": "91fc3a74",
   "metadata": {},
   "source": [
    "# SISTEMA DI RACCOMANDAZIONE BASATO SUI LIKE E SULLA CORRELAZIONE DI\n",
    "- TYPE\n",
    "- COUNTRY\n",
    "- LISTED_IN / CATEGORY"
   ]
  },
  {
   "cell_type": "markdown",
   "id": "1dab8f11",
   "metadata": {},
   "source": [
    "### COSTRUZIONE DI UNA FUNZIONE CHE RESTITUISCE UN ELENCO DI RACCOMANDAZIONI SULLA BASE DI UN LIKE ARBITRARIO"
   ]
  },
  {
   "cell_type": "code",
   "execution_count": 16,
   "id": "9f9becd4",
   "metadata": {},
   "outputs": [],
   "source": [
    "netflix_df.set_index('title',inplace=True)\n",
    "\n",
    "def reccomendation(like):\n",
    "\n",
    "    try:\n",
    "        type=netflix_df.loc[like,'type']\n",
    "        country=netflix_df.loc[like,'country']\n",
    "        genere=netflix_df.loc[like,'listed_in']\n",
    "\n",
    "        request_1=netflix_df[netflix_df['country']==country]\n",
    "        request_2=request_1[request_1['listed_in']==genere]\n",
    "        request_3=request_2[request_2['type']==type]\n",
    "\n",
    "        reccomendation_list_complete=(request_3.index.tolist())\n",
    "\n",
    "        list_number_ofElements=len(reccomendation_list_complete)-1\n",
    "\n",
    "        if list_number_ofElements >0:\n",
    "            reccomendation_list=(reccomendation_list_complete[0:5])\n",
    "            reccomendation_list.remove(like)\n",
    "            reccomendation_list_toBullet=('\\n\\u2022'.join(reccomendation_list))\n",
    "            reccomendation_comment=('\\nNoi ti consigliamo di guardare anche: \\n')\n",
    "            print(reccomendation_comment + '\\n\\u2022' + reccomendation_list_toBullet)\n",
    "        else:\n",
    "            print('\\nCi dispiace ma nella nostra lista non abbiamo nulla da consigliarti per il momento!')\n",
    "\n",
    "    except:\n",
    "        print('\\nCi dispiace ma nel nostro catalogo non è presente questo contenuto!')\n"
   ]
  },
  {
   "cell_type": "code",
   "execution_count": 17,
   "id": "6aaac0ba",
   "metadata": {},
   "outputs": [
    {
     "name": "stdout",
     "output_type": "stream",
     "text": [
      "\n",
      "Noi ti consigliamo di guardare anche: \n",
      "\n",
      "•Cheers\n",
      "•Frasier\n",
      "•The Andy Griffith Show\n"
     ]
    }
   ],
   "source": [
    "like= str(input(\"Inserisci una serie TV o film che hai già visto: \"))\n",
    "\n",
    "OurReccomendation=reccomendation(like)"
   ]
  }
 ],
 "metadata": {
  "kernelspec": {
   "display_name": "Python 3 (ipykernel)",
   "language": "python",
   "name": "python3"
  },
  "language_info": {
   "codemirror_mode": {
    "name": "ipython",
    "version": 3
   },
   "file_extension": ".py",
   "mimetype": "text/x-python",
   "name": "python",
   "nbconvert_exporter": "python",
   "pygments_lexer": "ipython3",
   "version": "3.9.7"
  }
 },
 "nbformat": 4,
 "nbformat_minor": 5
}
